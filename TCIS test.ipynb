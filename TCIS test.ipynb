{
 "cells": [
  {
   "cell_type": "code",
   "execution_count": 10,
   "id": "7d1bc7c6-c8c2-4f83-90ff-a18e808c4774",
   "metadata": {},
   "outputs": [
    {
     "ename": "OperationalError",
     "evalue": "('08001', '[08001] [Microsoft][ODBC SQL Server Driver][DBNETLIB]SQL Server does not exist or access denied. (17) (SQLDriverConnect); [08001] [Microsoft][ODBC SQL Server Driver][DBNETLIB]ConnectionOpen (Connect()). (1326); [08001] [Microsoft][ODBC SQL Server Driver]Invalid connection string attribute (0)')",
     "output_type": "error",
     "traceback": [
      "\u001b[1;31m---------------------------------------------------------------------------\u001b[0m",
      "\u001b[1;31mOperationalError\u001b[0m                          Traceback (most recent call last)",
      "Cell \u001b[1;32mIn[10], line 5\u001b[0m\n\u001b[0;32m      3\u001b[0m \u001b[38;5;28;01mimport\u001b[39;00m \u001b[38;5;21;01mmatplotlib\u001b[39;00m\u001b[38;5;21;01m.\u001b[39;00m\u001b[38;5;21;01mpyplot\u001b[39;00m \u001b[38;5;28;01mas\u001b[39;00m \u001b[38;5;21;01mplt\u001b[39;00m\n\u001b[0;32m      4\u001b[0m \u001b[38;5;28;01mimport\u001b[39;00m \u001b[38;5;21;01mnumpy\u001b[39;00m \u001b[38;5;28;01mas\u001b[39;00m \u001b[38;5;21;01mnp\u001b[39;00m\n\u001b[1;32m----> 5\u001b[0m conn \u001b[38;5;241m=\u001b[39m \u001b[43mpyodbc\u001b[49m\u001b[38;5;241;43m.\u001b[39;49m\u001b[43mconnect\u001b[49m\u001b[43m(\u001b[49m\u001b[38;5;124;43m'\u001b[39;49m\u001b[38;5;124;43mDRIVER=\u001b[39;49m\u001b[38;5;124;43m{\u001b[39;49m\u001b[38;5;124;43mSQL Server};SERVER = 192.168.1.20,1434;DATABASE=TenderCareSystem;UID=tcisadmin;PWD=Hellotc406;SERVER=SRV02\u001b[39;49m\u001b[38;5;124;43m'\u001b[39;49m\u001b[43m)\u001b[49m\n\u001b[0;32m      7\u001b[0m cursor \u001b[38;5;241m=\u001b[39m conn\u001b[38;5;241m.\u001b[39mcursor()\n",
      "\u001b[1;31mOperationalError\u001b[0m: ('08001', '[08001] [Microsoft][ODBC SQL Server Driver][DBNETLIB]SQL Server does not exist or access denied. (17) (SQLDriverConnect); [08001] [Microsoft][ODBC SQL Server Driver][DBNETLIB]ConnectionOpen (Connect()). (1326); [08001] [Microsoft][ODBC SQL Server Driver]Invalid connection string attribute (0)')"
     ]
    }
   ],
   "source": [
    "import pyodbc\n",
    "import pandas as pd\n",
    "import matplotlib.pyplot as plt\n",
    "import numpy as np\n",
    "conn = pyodbc.connect('DRIVER={SQL Server};SERVER = 192.168.1.20,1434;DATABASE=TenderCareSystem;UID=tcisadmin;PWD=Hellotc406;SERVER=SRV02')\n",
    "\n",
    "cursor = conn.cursor()\n"
   ]
  },
  {
   "cell_type": "code",
   "execution_count": 2,
   "id": "cc15501c-e78a-4112-a1a5-90e4ddd75a43",
   "metadata": {},
   "outputs": [
    {
     "data": {
      "text/plain": [
       "(1, 'Trump Spa', '410 N. Wabash St.', '', 'Chicago', 'IL', '60611', \"Ttump Int'l Hotel & Tower\", '410 N. Wabash St.', '', 'Chicago', 'IL', '60611', 'Accts Payable Dept.', '', '', 1, 0, 1, datetime.datetime(2011, 2, 26, 19, 52, 9, 287000), True, True, Decimal('900'), Decimal('14.25'), False, 'Powder Blue', 'Yellow', 'Goldenrod', '<Select>', '<Select>', '', False, False, '', '', '', '', '', None, '', 3, 0)"
      ]
     },
     "execution_count": 2,
     "metadata": {},
     "output_type": "execute_result"
    }
   ],
   "source": [
    "row  = cursor.execute(\"select * from Customer\").fetchone()\n",
    "row"
   ]
  },
  {
   "cell_type": "code",
   "execution_count": 3,
   "id": "2f3a6323-6845-4a3a-a37b-834ebf883de5",
   "metadata": {},
   "outputs": [
    {
     "data": {
      "text/plain": [
       "[('InvoiceHeader',),\n",
       " ('HangerBarIncomingSoilMapping',),\n",
       " ('ErrorLog',),\n",
       " ('CartNew',),\n",
       " ('HangerBarIncomingSoilMapping_Temp',),\n",
       " ('CustomerEmail',),\n",
       " ('DirectTransfersCart',),\n",
       " ('SoilReceivingHBMapping',),\n",
       " ('OutgoingCleanLinenItems2',),\n",
       " ('UserPermission',),\n",
       " ('DirectTransfersCartIds',),\n",
       " ('Manifest',),\n",
       " ('Vendor',),\n",
       " ('HangerLocation',),\n",
       " ('Password',),\n",
       " ('CustomerUser',),\n",
       " ('AncillaryChargesCustomerwise',),\n",
       " ('OutgoingCleanLinenItems',),\n",
       " ('Vehicle',),\n",
       " ('UpdateDailyValue',),\n",
       " ('ScaleDataTemp',),\n",
       " ('CartColor',),\n",
       " ('ErrorLog_OldData',),\n",
       " ('EquipmentHeadAssetGroup',),\n",
       " ('IncomingSoil',),\n",
       " ('EquipmentHeadCategory',),\n",
       " ('CartMaintenance',),\n",
       " ('EquipmentRefDocs',),\n",
       " ('DeletedDuplicateRecordsLog',),\n",
       " ('Size',),\n",
       " ('CartAssignment',),\n",
       " ('RetiredCartEmailLog',),\n",
       " ('LogTable',),\n",
       " ('EquipmentHeadType',),\n",
       " ('IncomingSoilTempHeader',),\n",
       " ('RetiredCartLog',),\n",
       " ('UpdatedRecordsLog',),\n",
       " ('ActivateCustomerReportEmailing',),\n",
       " ('CustomerInvoiceInformation',),\n",
       " ('UpdateLogForCleanShipping',),\n",
       " ('Reports',),\n",
       " ('UpdateLogForCleanShippingLICReport',),\n",
       " ('CustomerRefDocs',),\n",
       " ('CustomerPickupDelivery',),\n",
       " ('EquipmentHeadSubassembly',),\n",
       " ('IncomingSoilOtherItemsMapping',),\n",
       " ('Cart',),\n",
       " ('AncillaryCharges',),\n",
       " ('EmailLog_26Apr2019',),\n",
       " ('AutomationSettings',),\n",
       " ('tbl_LinenItemsExpected_ForHyattMM',),\n",
       " ('ProductionLevelGraphTemp',),\n",
       " ('ReportAutomationExecutionLog',),\n",
       " ('SystemSettings',),\n",
       " ('EquipmentHeadDesignation',),\n",
       " ('Options',),\n",
       " ('PlantMasters',),\n",
       " ('AncillaryChargesApplier',),\n",
       " ('Equipment',),\n",
       " ('tbl_TestTableForReport',),\n",
       " ('DiscardLinenItems',),\n",
       " ('EventLog',),\n",
       " ('EmailLog',),\n",
       " ('Tbl_TempTable',),\n",
       " ('OutgoingClean',),\n",
       " ('ScannedTrackingItemsTemp',),\n",
       " ('LinenItemCategory',),\n",
       " ('ContactMappingForManagementTeam',),\n",
       " ('ScannedTrackingItems',),\n",
       " ('ScannedTrackingItemDetails',),\n",
       " ('LinenItemUpdateHistory',),\n",
       " ('ProcessedAvgRepresentationData',),\n",
       " ('CustomerDivision',),\n",
       " ('User',),\n",
       " ('CustomerServiceRequestEvent',),\n",
       " ('IncomingSoilNumberTruckNumberMapping',),\n",
       " ('SoilIn',),\n",
       " ('IncomingSoilTemp',),\n",
       " ('CartMappingCartStatus',),\n",
       " ('SRTCartDumped',),\n",
       " ('CustomerwiseDivisions',),\n",
       " ('HangerBar',),\n",
       " ('CleanOut',),\n",
       " ('CustomerDifferentBillToInfo',),\n",
       " ('PPOHReportSetting',),\n",
       " ('LinenItem',),\n",
       " ('LoginUserLogger',),\n",
       " ('CartLocation',),\n",
       " ('LinenItemsExpected',),\n",
       " ('AppReleaseDetails',),\n",
       " ('CTREmailLog',),\n",
       " ('Customer',),\n",
       " ('EmailLog_03Nov22',),\n",
       " ('IncomingSoilDetail',),\n",
       " ('PCMaster',),\n",
       " ('ResourceMaster',),\n",
       " ('AvailableResources',),\n",
       " ('Tbl_TempTableForCartPackerErrorLog',),\n",
       " ('NewSRTCartDumped',),\n",
       " ('CustomerServiceRequest',),\n",
       " ('CartLocationDailyUpdateData',),\n",
       " ('PickupEmailLog',),\n",
       " ('UtilityItem',),\n",
       " ('cart_bkp_17Mar2020',),\n",
       " ('UserSessionEntry',),\n",
       " ('UtilityItemDailyReading',),\n",
       " ('TrackingLinenItem',),\n",
       " ('IncomingSoilHeader',),\n",
       " ('ReportEnabledCustomerContactWise',),\n",
       " ('DatabaseVersions',),\n",
       " ('EmailLog_28Nov22',),\n",
       " ('ManifestDetail',),\n",
       " ('SoilInLinenItemCategory',)]"
      ]
     },
     "execution_count": 3,
     "metadata": {},
     "output_type": "execute_result"
    }
   ],
   "source": [
    "row  = cursor.execute(\"SELECT name FROM [TenderCareSystem].sys.tables;\").fetchall()\n",
    "row"
   ]
  },
  {
   "cell_type": "code",
   "execution_count": 26,
   "id": "dc25fa43-acdd-43fa-9649-41d1f4676f46",
   "metadata": {},
   "outputs": [],
   "source": [
    "import numpy as np\n",
    "row  = cursor.execute(\"SELECT * FROM INFORMATION_SCHEMA.COLUMNS WHERE TABLE_NAME = N'IncomingSoilDetail'\").fetchall()\n",
    "row = np.array(row)\n",
    "names = row[:,3]"
   ]
  },
  {
   "cell_type": "code",
   "execution_count": 6,
   "id": "9cfaf41b-d9cb-405f-96d9-616ad9a9a4f4",
   "metadata": {},
   "outputs": [],
   "source": [
    "incoming = cursor.execute(\"Select * from IncomingSoilDetail\").fetchall()"
   ]
  },
  {
   "cell_type": "code",
   "execution_count": 29,
   "id": "3bcf31af-3b85-458a-8f8f-b1c53c35bf14",
   "metadata": {},
   "outputs": [],
   "source": [
    "incoming = np.array(incoming)\n",
    "df = pd.DataFrame(incoming, columns=names)"
   ]
  },
  {
   "cell_type": "code",
   "execution_count": 32,
   "id": "ecfcbb71-1131-4e74-9882-f4ea9bdb3385",
   "metadata": {},
   "outputs": [
    {
     "data": {
      "text/html": [
       "<div>\n",
       "<style scoped>\n",
       "    .dataframe tbody tr th:only-of-type {\n",
       "        vertical-align: middle;\n",
       "    }\n",
       "\n",
       "    .dataframe tbody tr th {\n",
       "        vertical-align: top;\n",
       "    }\n",
       "\n",
       "    .dataframe thead th {\n",
       "        text-align: right;\n",
       "    }\n",
       "</style>\n",
       "<table border=\"1\" class=\"dataframe\">\n",
       "  <thead>\n",
       "    <tr style=\"text-align: right;\">\n",
       "      <th></th>\n",
       "      <th>ID</th>\n",
       "      <th>IncomingSoilNumber</th>\n",
       "      <th>LinenTypeID</th>\n",
       "      <th>CustomerDivisionID</th>\n",
       "      <th>HumanReadableCartID</th>\n",
       "      <th>MachineReadableCartID</th>\n",
       "      <th>CartColor</th>\n",
       "      <th>GrossWeight</th>\n",
       "      <th>TareWeight</th>\n",
       "      <th>NetWeight</th>\n",
       "      <th>UserID</th>\n",
       "      <th>IsSoiledIn</th>\n",
       "      <th>IsDeleted</th>\n",
       "      <th>IsCartManualyEntered</th>\n",
       "      <th>DateTimeProcessed</th>\n",
       "      <th>SRTNumber</th>\n",
       "      <th>HangerBarcode</th>\n",
       "      <th>isHangerBarManuanlyEntered</th>\n",
       "    </tr>\n",
       "  </thead>\n",
       "  <tbody>\n",
       "    <tr>\n",
       "      <th>738364</th>\n",
       "      <td>767776</td>\n",
       "      <td>PU - 228690</td>\n",
       "      <td>1</td>\n",
       "      <td>1</td>\n",
       "      <td>2463</td>\n",
       "      <td></td>\n",
       "      <td>Purple</td>\n",
       "      <td>463.00</td>\n",
       "      <td>130.00</td>\n",
       "      <td>333.00</td>\n",
       "      <td>72</td>\n",
       "      <td>False</td>\n",
       "      <td>False</td>\n",
       "      <td>False</td>\n",
       "      <td>2025-01-06 14:30:27</td>\n",
       "      <td>280484</td>\n",
       "      <td></td>\n",
       "      <td>None</td>\n",
       "    </tr>\n",
       "    <tr>\n",
       "      <th>738365</th>\n",
       "      <td>767777</td>\n",
       "      <td>PU - 228690</td>\n",
       "      <td>1</td>\n",
       "      <td>1</td>\n",
       "      <td>1840</td>\n",
       "      <td></td>\n",
       "      <td>Orange</td>\n",
       "      <td>419.00</td>\n",
       "      <td>127.00</td>\n",
       "      <td>292.00</td>\n",
       "      <td>72</td>\n",
       "      <td>False</td>\n",
       "      <td>False</td>\n",
       "      <td>False</td>\n",
       "      <td>2025-01-06 14:29:57</td>\n",
       "      <td>280483</td>\n",
       "      <td></td>\n",
       "      <td>None</td>\n",
       "    </tr>\n",
       "    <tr>\n",
       "      <th>738366</th>\n",
       "      <td>767778</td>\n",
       "      <td>PU - 228690</td>\n",
       "      <td>1</td>\n",
       "      <td>1</td>\n",
       "      <td>3467</td>\n",
       "      <td></td>\n",
       "      <td>Reddish Orange</td>\n",
       "      <td>468.00</td>\n",
       "      <td>119.00</td>\n",
       "      <td>349.00</td>\n",
       "      <td>72</td>\n",
       "      <td>False</td>\n",
       "      <td>False</td>\n",
       "      <td>False</td>\n",
       "      <td>2025-01-06 14:29:13</td>\n",
       "      <td>280482</td>\n",
       "      <td></td>\n",
       "      <td>None</td>\n",
       "    </tr>\n",
       "    <tr>\n",
       "      <th>738367</th>\n",
       "      <td>767779</td>\n",
       "      <td>PU - 228690</td>\n",
       "      <td>1</td>\n",
       "      <td>1</td>\n",
       "      <td>5066</td>\n",
       "      <td></td>\n",
       "      <td>Salmon</td>\n",
       "      <td>493.00</td>\n",
       "      <td>160.00</td>\n",
       "      <td>333.00</td>\n",
       "      <td>72</td>\n",
       "      <td>False</td>\n",
       "      <td>False</td>\n",
       "      <td>False</td>\n",
       "      <td>2025-01-06 14:28:42</td>\n",
       "      <td>280481</td>\n",
       "      <td></td>\n",
       "      <td>None</td>\n",
       "    </tr>\n",
       "    <tr>\n",
       "      <th>738368</th>\n",
       "      <td>767780</td>\n",
       "      <td>PU - 228690</td>\n",
       "      <td>1</td>\n",
       "      <td>1</td>\n",
       "      <td>3566</td>\n",
       "      <td></td>\n",
       "      <td>Reddish Orange</td>\n",
       "      <td>463.00</td>\n",
       "      <td>122.00</td>\n",
       "      <td>341.00</td>\n",
       "      <td>72</td>\n",
       "      <td>False</td>\n",
       "      <td>False</td>\n",
       "      <td>False</td>\n",
       "      <td>2025-01-06 14:28:07</td>\n",
       "      <td>280480</td>\n",
       "      <td></td>\n",
       "      <td>None</td>\n",
       "    </tr>\n",
       "  </tbody>\n",
       "</table>\n",
       "</div>"
      ],
      "text/plain": [
       "            ID IncomingSoilNumber LinenTypeID CustomerDivisionID  \\\n",
       "738364  767776        PU - 228690           1                  1   \n",
       "738365  767777        PU - 228690           1                  1   \n",
       "738366  767778        PU - 228690           1                  1   \n",
       "738367  767779        PU - 228690           1                  1   \n",
       "738368  767780        PU - 228690           1                  1   \n",
       "\n",
       "       HumanReadableCartID MachineReadableCartID       CartColor GrossWeight  \\\n",
       "738364                2463                                Purple      463.00   \n",
       "738365                1840                                Orange      419.00   \n",
       "738366                3467                        Reddish Orange      468.00   \n",
       "738367                5066                                Salmon      493.00   \n",
       "738368                3566                        Reddish Orange      463.00   \n",
       "\n",
       "       TareWeight NetWeight UserID IsSoiledIn IsDeleted IsCartManualyEntered  \\\n",
       "738364     130.00    333.00     72      False     False                False   \n",
       "738365     127.00    292.00     72      False     False                False   \n",
       "738366     119.00    349.00     72      False     False                False   \n",
       "738367     160.00    333.00     72      False     False                False   \n",
       "738368     122.00    341.00     72      False     False                False   \n",
       "\n",
       "         DateTimeProcessed SRTNumber HangerBarcode isHangerBarManuanlyEntered  \n",
       "738364 2025-01-06 14:30:27    280484                                     None  \n",
       "738365 2025-01-06 14:29:57    280483                                     None  \n",
       "738366 2025-01-06 14:29:13    280482                                     None  \n",
       "738367 2025-01-06 14:28:42    280481                                     None  \n",
       "738368 2025-01-06 14:28:07    280480                                     None  "
      ]
     },
     "execution_count": 32,
     "metadata": {},
     "output_type": "execute_result"
    }
   ],
   "source": [
    "df.tail()"
   ]
  },
  {
   "cell_type": "code",
   "execution_count": 33,
   "id": "935119fa-8792-4b8d-a4f6-7ffd3b0d3c00",
   "metadata": {},
   "outputs": [],
   "source": []
  },
  {
   "cell_type": "code",
   "execution_count": 37,
   "id": "5a11bf54-fa6d-45ff-95e5-e9c2d8968484",
   "metadata": {},
   "outputs": [
    {
     "data": {
      "text/plain": [
       "0           0.00\n",
       "1           0.00\n",
       "2           0.00\n",
       "3           0.00\n",
       "4           0.00\n",
       "           ...  \n",
       "738364    463.00\n",
       "738365    419.00\n",
       "738366    468.00\n",
       "738367    493.00\n",
       "738368    463.00\n",
       "Name: GrossWeight, Length: 738369, dtype: object"
      ]
     },
     "execution_count": 37,
     "metadata": {},
     "output_type": "execute_result"
    }
   ],
   "source": [
    "df['GrossWeight']"
   ]
  },
  {
   "cell_type": "code",
   "execution_count": 47,
   "id": "76f71568-5f9b-493c-854a-313129f0f2b2",
   "metadata": {},
   "outputs": [
    {
     "data": {
      "text/plain": [
       "(array([4.7100e+02, 1.0000e+00, 0.0000e+00, 1.0000e+00, 0.0000e+00,\n",
       "        0.0000e+00, 2.0000e+00, 0.0000e+00, 1.0000e+00, 6.0000e+00,\n",
       "        4.3000e+01, 1.6000e+01, 5.0000e+00, 3.1000e+01, 3.0000e+01,\n",
       "        3.3000e+01, 5.6000e+01, 8.1000e+01, 5.9000e+01, 5.3000e+01,\n",
       "        7.5000e+01, 7.8000e+01, 6.6000e+01, 8.8000e+01, 1.0100e+02,\n",
       "        1.4200e+02, 1.2200e+02, 1.5500e+02, 2.7680e+03, 1.6680e+03,\n",
       "        3.3840e+03, 3.0680e+03, 6.2120e+03, 3.3480e+03, 2.1900e+03,\n",
       "        2.4090e+03, 2.6330e+03, 1.4290e+03, 1.2290e+03, 1.1500e+03,\n",
       "        1.0670e+03, 8.5000e+02, 9.6700e+02, 1.0610e+03, 1.0570e+03,\n",
       "        1.1770e+03, 1.2300e+03, 1.3040e+03, 1.4260e+03, 1.3750e+03,\n",
       "        1.5860e+03, 1.5820e+03, 1.6930e+03, 1.7470e+03, 1.7630e+03,\n",
       "        1.9380e+03, 1.9180e+03, 1.9690e+03, 2.1110e+03, 2.0310e+03,\n",
       "        2.1250e+03, 2.2140e+03, 2.2790e+03, 2.3240e+03, 2.3300e+03,\n",
       "        2.3950e+03, 2.5120e+03, 2.5630e+03, 2.7420e+03, 2.6930e+03,\n",
       "        2.7920e+03, 2.9180e+03, 3.0760e+03, 3.0630e+03, 3.0540e+03,\n",
       "        3.4460e+03, 3.5120e+03, 3.5430e+03, 3.7520e+03, 3.7180e+03,\n",
       "        4.1060e+03, 4.0930e+03, 4.3450e+03, 4.4420e+03, 4.7760e+03,\n",
       "        4.9130e+03, 5.2810e+03, 5.8250e+03, 6.1370e+03, 6.0730e+03,\n",
       "        6.7660e+03, 6.9240e+03, 7.3400e+03, 7.7510e+03, 7.9680e+03,\n",
       "        8.7960e+03, 8.8280e+03, 9.6400e+03, 9.9520e+03, 1.0193e+04,\n",
       "        1.1044e+04, 1.1497e+04, 1.1509e+04, 1.1978e+04, 1.1914e+04,\n",
       "        1.2890e+04, 1.2860e+04, 1.3036e+04, 1.3233e+04, 1.3018e+04,\n",
       "        1.3247e+04, 1.3761e+04, 1.3441e+04, 1.3498e+04, 1.2974e+04,\n",
       "        1.3386e+04, 1.2892e+04, 1.2931e+04, 1.2448e+04, 1.2045e+04,\n",
       "        1.1833e+04, 1.1338e+04, 1.1293e+04, 1.0532e+04, 1.0148e+04,\n",
       "        1.0888e+04, 9.5030e+03, 9.3080e+03, 8.4980e+03, 7.7710e+03,\n",
       "        8.1360e+03, 7.3740e+03, 7.4420e+03, 6.5540e+03, 5.8810e+03,\n",
       "        6.0600e+03, 5.4510e+03, 5.4760e+03, 4.9460e+03, 4.2340e+03,\n",
       "        4.6520e+03, 4.0430e+03, 3.6550e+03, 3.4370e+03, 3.0950e+03,\n",
       "        3.1700e+03, 2.8150e+03, 2.8290e+03, 2.5580e+03, 2.2840e+03,\n",
       "        2.4460e+03, 2.1490e+03, 2.1080e+03, 1.8840e+03, 1.7610e+03,\n",
       "        1.7360e+03, 1.6400e+03, 1.6060e+03, 1.5290e+03, 1.4120e+03,\n",
       "        1.3460e+03, 1.2190e+03, 1.1970e+03, 1.0710e+03, 9.6400e+02,\n",
       "        9.3500e+02, 8.7200e+02, 7.9600e+02, 7.0700e+02, 6.5500e+02,\n",
       "        6.4800e+02, 5.2300e+02, 4.9100e+02, 4.6500e+02, 4.2600e+02,\n",
       "        4.0000e+02, 3.3800e+02, 3.2400e+02, 2.8800e+02, 2.7800e+02,\n",
       "        2.3900e+02, 2.2600e+02, 1.9600e+02, 1.9400e+02, 1.5600e+02,\n",
       "        1.5600e+02, 1.3400e+02, 1.2200e+02, 9.7000e+01, 9.3000e+01,\n",
       "        7.5000e+01, 7.3000e+01, 6.2000e+01, 6.5000e+01, 6.6000e+01,\n",
       "        5.1000e+01, 5.5000e+01, 3.1000e+01, 3.7000e+01, 3.7000e+01]),\n",
       " array([  0.,   4.,   8.,  12.,  16.,  20.,  24.,  28.,  32.,  36.,  40.,\n",
       "         44.,  48.,  52.,  56.,  60.,  64.,  68.,  72.,  76.,  80.,  84.,\n",
       "         88.,  92.,  96., 100., 104., 108., 112., 116., 120., 124., 128.,\n",
       "        132., 136., 140., 144., 148., 152., 156., 160., 164., 168., 172.,\n",
       "        176., 180., 184., 188., 192., 196., 200., 204., 208., 212., 216.,\n",
       "        220., 224., 228., 232., 236., 240., 244., 248., 252., 256., 260.,\n",
       "        264., 268., 272., 276., 280., 284., 288., 292., 296., 300., 304.,\n",
       "        308., 312., 316., 320., 324., 328., 332., 336., 340., 344., 348.,\n",
       "        352., 356., 360., 364., 368., 372., 376., 380., 384., 388., 392.,\n",
       "        396., 400., 404., 408., 412., 416., 420., 424., 428., 432., 436.,\n",
       "        440., 444., 448., 452., 456., 460., 464., 468., 472., 476., 480.,\n",
       "        484., 488., 492., 496., 500., 504., 508., 512., 516., 520., 524.,\n",
       "        528., 532., 536., 540., 544., 548., 552., 556., 560., 564., 568.,\n",
       "        572., 576., 580., 584., 588., 592., 596., 600., 604., 608., 612.,\n",
       "        616., 620., 624., 628., 632., 636., 640., 644., 648., 652., 656.,\n",
       "        660., 664., 668., 672., 676., 680., 684., 688., 692., 696., 700.,\n",
       "        704., 708., 712., 716., 720., 724., 728., 732., 736., 740., 744.,\n",
       "        748., 752., 756., 760., 764., 768., 772., 776., 780., 784., 788.,\n",
       "        792., 796., 800.]),\n",
       " <BarContainer object of 200 artists>)"
      ]
     },
     "execution_count": 47,
     "metadata": {},
     "output_type": "execute_result"
    },
    {
     "data": {
      "image/png": "[encoded data removed]",
      "text/plain": [
       "<Figure size 640x480 with 1 Axes>"
      ]
     },
     "metadata": {},
     "output_type": "display_data"
    }
   ],
   "source": [
    "plt.hist(df['GrossWeight'], bins = 200, range = (0,800))"
   ]
  },
  {
   "cell_type": "code",
   "execution_count": 45,
   "id": "0c104788-89b1-48aa-a9ac-d63dbd84d7c5",
   "metadata": {},
   "outputs": [
    {
     "data": {
      "text/plain": [
       "(array([9.9840e+03, 1.8500e+03, 9.0000e+00, 1.3200e+02, 5.7300e+02,\n",
       "        0.0000e+00, 0.0000e+00, 0.0000e+00, 4.9100e+02, 0.0000e+00,\n",
       "        4.7200e+02, 1.6130e+03, 7.7700e+02, 2.7175e+04, 1.8550e+03,\n",
       "        5.4400e+02, 1.0180e+03, 7.2800e+02, 1.7254e+04, 3.8070e+03,\n",
       "        3.7001e+04, 2.0960e+04, 3.1907e+04, 4.8032e+04, 4.5085e+04,\n",
       "        3.0201e+04, 3.9908e+04, 3.2076e+04, 2.2915e+04, 4.4287e+04,\n",
       "        2.6857e+04, 1.0316e+04, 1.4074e+04, 3.8569e+04, 3.2375e+04,\n",
       "        1.5893e+04, 1.9767e+04, 2.2598e+04, 1.1612e+04, 1.1665e+04,\n",
       "        1.1772e+04, 1.8990e+03, 1.4270e+03, 5.7100e+02, 7.6200e+02,\n",
       "        4.7700e+02, 1.0070e+03, 9.8500e+02, 6.0420e+03, 0.0000e+00,\n",
       "        2.1448e+04, 3.7700e+02, 0.0000e+00, 0.0000e+00, 2.8000e+01,\n",
       "        0.0000e+00, 0.0000e+00, 0.0000e+00, 0.0000e+00, 6.5000e+01,\n",
       "        5.8520e+03, 1.2880e+03, 1.2030e+03, 2.4502e+04, 8.6800e+02,\n",
       "        0.0000e+00, 0.0000e+00, 0.0000e+00, 0.0000e+00, 0.0000e+00,\n",
       "        6.6450e+03, 0.0000e+00, 0.0000e+00, 2.3600e+02, 0.0000e+00,\n",
       "        0.0000e+00, 0.0000e+00, 0.0000e+00, 0.0000e+00, 0.0000e+00,\n",
       "        8.5600e+02, 3.4100e+02, 1.8950e+03, 5.9900e+02, 0.0000e+00,\n",
       "        0.0000e+00, 0.0000e+00, 0.0000e+00, 2.8130e+03, 1.5650e+03,\n",
       "        9.5100e+02, 0.0000e+00, 0.0000e+00, 0.0000e+00, 5.7400e+02,\n",
       "        1.4498e+04, 0.0000e+00, 0.0000e+00, 0.0000e+00, 2.4340e+03]),\n",
       " array([    0.,   100.,   200.,   300.,   400.,   500.,   600.,   700.,\n",
       "          800.,   900.,  1000.,  1100.,  1200.,  1300.,  1400.,  1500.,\n",
       "         1600.,  1700.,  1800.,  1900.,  2000.,  2100.,  2200.,  2300.,\n",
       "         2400.,  2500.,  2600.,  2700.,  2800.,  2900.,  3000.,  3100.,\n",
       "         3200.,  3300.,  3400.,  3500.,  3600.,  3700.,  3800.,  3900.,\n",
       "         4000.,  4100.,  4200.,  4300.,  4400.,  4500.,  4600.,  4700.,\n",
       "         4800.,  4900.,  5000.,  5100.,  5200.,  5300.,  5400.,  5500.,\n",
       "         5600.,  5700.,  5800.,  5900.,  6000.,  6100.,  6200.,  6300.,\n",
       "         6400.,  6500.,  6600.,  6700.,  6800.,  6900.,  7000.,  7100.,\n",
       "         7200.,  7300.,  7400.,  7500.,  7600.,  7700.,  7800.,  7900.,\n",
       "         8000.,  8100.,  8200.,  8300.,  8400.,  8500.,  8600.,  8700.,\n",
       "         8800.,  8900.,  9000.,  9100.,  9200.,  9300.,  9400.,  9500.,\n",
       "         9600.,  9700.,  9800.,  9900., 10000.]),\n",
       " <BarContainer object of 100 artists>)"
      ]
     },
     "execution_count": 45,
     "metadata": {},
     "output_type": "execute_result"
    },
    {
     "data": {
      "image/png": "[encoded data removed]",
      "text/plain": [
       "<Figure size 640x480 with 1 Axes>"
      ]
     },
     "metadata": {},
     "output_type": "display_data"
    }
   ],
   "source": [
    "plt.hist(df['HumanReadableCartID'], bins = 100, range = (0,10000))"
   ]
  },
  {
   "cell_type": "code",
   "execution_count": 5,
   "id": "99051e5e-a404-4771-81eb-19e8ca47777b",
   "metadata": {},
   "outputs": [],
   "source": [
    "def get_table(name):\n",
    "    row  = cursor.execute(\"SELECT * FROM INFORMATION_SCHEMA.COLUMNS WHERE TABLE_NAME = N'\" + name + \"'\").fetchall()\n",
    "    row = np.array(row)\n",
    "    cnames = row[:,3]\n",
    "    table = cursor.execute(\"Select * from \" + name).fetchall()\n",
    "    array = np.array(table)\n",
    "    df = pd.DataFrame(array, columns=cnames)\n",
    "    return df"
   ]
  },
  {
   "cell_type": "code",
   "execution_count": 56,
   "id": "312ac863-f10b-4f27-a9bc-c6914a0d8257",
   "metadata": {},
   "outputs": [],
   "source": [
    "incdet = get_table(\"IncomingSoilDetail\")"
   ]
  },
  {
   "cell_type": "code",
   "execution_count": 57,
   "id": "1706992c-8012-4a1c-b3d5-e76abebbd148",
   "metadata": {},
   "outputs": [
    {
     "data": {
      "text/html": [
       "<div>\n",
       "<style scoped>\n",
       "    .dataframe tbody tr th:only-of-type {\n",
       "        vertical-align: middle;\n",
       "    }\n",
       "\n",
       "    .dataframe tbody tr th {\n",
       "        vertical-align: top;\n",
       "    }\n",
       "\n",
       "    .dataframe thead th {\n",
       "        text-align: right;\n",
       "    }\n",
       "</style>\n",
       "<table border=\"1\" class=\"dataframe\">\n",
       "  <thead>\n",
       "    <tr style=\"text-align: right;\">\n",
       "      <th></th>\n",
       "      <th>ID</th>\n",
       "      <th>IncomingSoilNumber</th>\n",
       "      <th>LinenTypeID</th>\n",
       "      <th>CustomerDivisionID</th>\n",
       "      <th>HumanReadableCartID</th>\n",
       "      <th>MachineReadableCartID</th>\n",
       "      <th>CartColor</th>\n",
       "      <th>GrossWeight</th>\n",
       "      <th>TareWeight</th>\n",
       "      <th>NetWeight</th>\n",
       "      <th>UserID</th>\n",
       "      <th>IsSoiledIn</th>\n",
       "      <th>IsDeleted</th>\n",
       "      <th>IsCartManualyEntered</th>\n",
       "      <th>DateTimeProcessed</th>\n",
       "      <th>SRTNumber</th>\n",
       "      <th>HangerBarcode</th>\n",
       "      <th>isHangerBarManuanlyEntered</th>\n",
       "    </tr>\n",
       "  </thead>\n",
       "  <tbody>\n",
       "    <tr>\n",
       "      <th>0</th>\n",
       "      <td>1</td>\n",
       "      <td>PU - 100001</td>\n",
       "      <td>0</td>\n",
       "      <td>1</td>\n",
       "      <td>2563</td>\n",
       "      <td></td>\n",
       "      <td>Purple</td>\n",
       "      <td>0.00</td>\n",
       "      <td>132.00</td>\n",
       "      <td>0.00</td>\n",
       "      <td>2</td>\n",
       "      <td>False</td>\n",
       "      <td>False</td>\n",
       "      <td>False</td>\n",
       "      <td>NaT</td>\n",
       "      <td>None</td>\n",
       "      <td>None</td>\n",
       "      <td>None</td>\n",
       "    </tr>\n",
       "    <tr>\n",
       "      <th>1</th>\n",
       "      <td>2</td>\n",
       "      <td>PU - 100001</td>\n",
       "      <td>0</td>\n",
       "      <td>1</td>\n",
       "      <td>2465</td>\n",
       "      <td></td>\n",
       "      <td>Purple</td>\n",
       "      <td>0.00</td>\n",
       "      <td>130.00</td>\n",
       "      <td>0.00</td>\n",
       "      <td>2</td>\n",
       "      <td>False</td>\n",
       "      <td>False</td>\n",
       "      <td>False</td>\n",
       "      <td>NaT</td>\n",
       "      <td>None</td>\n",
       "      <td>None</td>\n",
       "      <td>None</td>\n",
       "    </tr>\n",
       "    <tr>\n",
       "      <th>2</th>\n",
       "      <td>3</td>\n",
       "      <td>PU - 100001</td>\n",
       "      <td>0</td>\n",
       "      <td>1</td>\n",
       "      <td>2930</td>\n",
       "      <td></td>\n",
       "      <td>Purple</td>\n",
       "      <td>0.00</td>\n",
       "      <td>130.00</td>\n",
       "      <td>0.00</td>\n",
       "      <td>2</td>\n",
       "      <td>False</td>\n",
       "      <td>False</td>\n",
       "      <td>False</td>\n",
       "      <td>NaT</td>\n",
       "      <td>None</td>\n",
       "      <td>None</td>\n",
       "      <td>None</td>\n",
       "    </tr>\n",
       "    <tr>\n",
       "      <th>3</th>\n",
       "      <td>4</td>\n",
       "      <td>PU - 100001</td>\n",
       "      <td>0</td>\n",
       "      <td>1</td>\n",
       "      <td>2470</td>\n",
       "      <td></td>\n",
       "      <td>Purple</td>\n",
       "      <td>0.00</td>\n",
       "      <td>130.00</td>\n",
       "      <td>0.00</td>\n",
       "      <td>2</td>\n",
       "      <td>False</td>\n",
       "      <td>False</td>\n",
       "      <td>False</td>\n",
       "      <td>NaT</td>\n",
       "      <td>None</td>\n",
       "      <td>None</td>\n",
       "      <td>None</td>\n",
       "    </tr>\n",
       "    <tr>\n",
       "      <th>4</th>\n",
       "      <td>5</td>\n",
       "      <td>PU - 100001</td>\n",
       "      <td>0</td>\n",
       "      <td>1</td>\n",
       "      <td>2859</td>\n",
       "      <td></td>\n",
       "      <td>Purple</td>\n",
       "      <td>0.00</td>\n",
       "      <td>125.00</td>\n",
       "      <td>0.00</td>\n",
       "      <td>2</td>\n",
       "      <td>False</td>\n",
       "      <td>False</td>\n",
       "      <td>False</td>\n",
       "      <td>NaT</td>\n",
       "      <td>None</td>\n",
       "      <td>None</td>\n",
       "      <td>None</td>\n",
       "    </tr>\n",
       "    <tr>\n",
       "      <th>...</th>\n",
       "      <td>...</td>\n",
       "      <td>...</td>\n",
       "      <td>...</td>\n",
       "      <td>...</td>\n",
       "      <td>...</td>\n",
       "      <td>...</td>\n",
       "      <td>...</td>\n",
       "      <td>...</td>\n",
       "      <td>...</td>\n",
       "      <td>...</td>\n",
       "      <td>...</td>\n",
       "      <td>...</td>\n",
       "      <td>...</td>\n",
       "      <td>...</td>\n",
       "      <td>...</td>\n",
       "      <td>...</td>\n",
       "      <td>...</td>\n",
       "      <td>...</td>\n",
       "    </tr>\n",
       "    <tr>\n",
       "      <th>738367</th>\n",
       "      <td>767779</td>\n",
       "      <td>PU - 228690</td>\n",
       "      <td>1</td>\n",
       "      <td>1</td>\n",
       "      <td>5066</td>\n",
       "      <td></td>\n",
       "      <td>Salmon</td>\n",
       "      <td>493.00</td>\n",
       "      <td>160.00</td>\n",
       "      <td>333.00</td>\n",
       "      <td>72</td>\n",
       "      <td>False</td>\n",
       "      <td>False</td>\n",
       "      <td>False</td>\n",
       "      <td>2025-01-06 14:28:42</td>\n",
       "      <td>280481</td>\n",
       "      <td></td>\n",
       "      <td>None</td>\n",
       "    </tr>\n",
       "    <tr>\n",
       "      <th>738368</th>\n",
       "      <td>767780</td>\n",
       "      <td>PU - 228690</td>\n",
       "      <td>1</td>\n",
       "      <td>1</td>\n",
       "      <td>3566</td>\n",
       "      <td></td>\n",
       "      <td>Reddish Orange</td>\n",
       "      <td>463.00</td>\n",
       "      <td>122.00</td>\n",
       "      <td>341.00</td>\n",
       "      <td>72</td>\n",
       "      <td>False</td>\n",
       "      <td>False</td>\n",
       "      <td>False</td>\n",
       "      <td>2025-01-06 14:28:07</td>\n",
       "      <td>280480</td>\n",
       "      <td></td>\n",
       "      <td>None</td>\n",
       "    </tr>\n",
       "    <tr>\n",
       "      <th>738369</th>\n",
       "      <td>767781</td>\n",
       "      <td>PU - 228691</td>\n",
       "      <td>1</td>\n",
       "      <td>1</td>\n",
       "      <td>3057</td>\n",
       "      <td></td>\n",
       "      <td>Orange</td>\n",
       "      <td>433.00</td>\n",
       "      <td>120.00</td>\n",
       "      <td>313.00</td>\n",
       "      <td>72</td>\n",
       "      <td>False</td>\n",
       "      <td>False</td>\n",
       "      <td>False</td>\n",
       "      <td>2025-01-06 14:39:24</td>\n",
       "      <td>280487</td>\n",
       "      <td></td>\n",
       "      <td>None</td>\n",
       "    </tr>\n",
       "    <tr>\n",
       "      <th>738370</th>\n",
       "      <td>767782</td>\n",
       "      <td>PU - 228691</td>\n",
       "      <td>1</td>\n",
       "      <td>1</td>\n",
       "      <td>3018</td>\n",
       "      <td></td>\n",
       "      <td>Orange</td>\n",
       "      <td>470.00</td>\n",
       "      <td>121.00</td>\n",
       "      <td>349.00</td>\n",
       "      <td>72</td>\n",
       "      <td>False</td>\n",
       "      <td>False</td>\n",
       "      <td>False</td>\n",
       "      <td>2025-01-06 14:38:59</td>\n",
       "      <td>280486</td>\n",
       "      <td></td>\n",
       "      <td>None</td>\n",
       "    </tr>\n",
       "    <tr>\n",
       "      <th>738371</th>\n",
       "      <td>767783</td>\n",
       "      <td>PU - 228692</td>\n",
       "      <td>1</td>\n",
       "      <td>1</td>\n",
       "      <td>9584</td>\n",
       "      <td></td>\n",
       "      <td>Blue</td>\n",
       "      <td>574.00</td>\n",
       "      <td>122.00</td>\n",
       "      <td>452.00</td>\n",
       "      <td>74</td>\n",
       "      <td>False</td>\n",
       "      <td>False</td>\n",
       "      <td>False</td>\n",
       "      <td>2025-01-06 15:09:28</td>\n",
       "      <td>280488</td>\n",
       "      <td></td>\n",
       "      <td>None</td>\n",
       "    </tr>\n",
       "  </tbody>\n",
       "</table>\n",
       "<p>738372 rows × 18 columns</p>\n",
       "</div>"
      ],
      "text/plain": [
       "            ID IncomingSoilNumber LinenTypeID CustomerDivisionID  \\\n",
       "0            1        PU - 100001           0                  1   \n",
       "1            2        PU - 100001           0                  1   \n",
       "2            3        PU - 100001           0                  1   \n",
       "3            4        PU - 100001           0                  1   \n",
       "4            5        PU - 100001           0                  1   \n",
       "...        ...                ...         ...                ...   \n",
       "738367  767779        PU - 228690           1                  1   \n",
       "738368  767780        PU - 228690           1                  1   \n",
       "738369  767781        PU - 228691           1                  1   \n",
       "738370  767782        PU - 228691           1                  1   \n",
       "738371  767783        PU - 228692           1                  1   \n",
       "\n",
       "       HumanReadableCartID MachineReadableCartID       CartColor GrossWeight  \\\n",
       "0                     2563                                Purple        0.00   \n",
       "1                     2465                                Purple        0.00   \n",
       "2                     2930                                Purple        0.00   \n",
       "3                     2470                                Purple        0.00   \n",
       "4                     2859                                Purple        0.00   \n",
       "...                    ...                   ...             ...         ...   \n",
       "738367                5066                                Salmon      493.00   \n",
       "738368                3566                        Reddish Orange      463.00   \n",
       "738369                3057                                Orange      433.00   \n",
       "738370                3018                                Orange      470.00   \n",
       "738371                9584                                  Blue      574.00   \n",
       "\n",
       "       TareWeight NetWeight UserID IsSoiledIn IsDeleted IsCartManualyEntered  \\\n",
       "0          132.00      0.00      2      False     False                False   \n",
       "1          130.00      0.00      2      False     False                False   \n",
       "2          130.00      0.00      2      False     False                False   \n",
       "3          130.00      0.00      2      False     False                False   \n",
       "4          125.00      0.00      2      False     False                False   \n",
       "...           ...       ...    ...        ...       ...                  ...   \n",
       "738367     160.00    333.00     72      False     False                False   \n",
       "738368     122.00    341.00     72      False     False                False   \n",
       "738369     120.00    313.00     72      False     False                False   \n",
       "738370     121.00    349.00     72      False     False                False   \n",
       "738371     122.00    452.00     74      False     False                False   \n",
       "\n",
       "         DateTimeProcessed SRTNumber HangerBarcode isHangerBarManuanlyEntered  \n",
       "0                      NaT      None          None                       None  \n",
       "1                      NaT      None          None                       None  \n",
       "2                      NaT      None          None                       None  \n",
       "3                      NaT      None          None                       None  \n",
       "4                      NaT      None          None                       None  \n",
       "...                    ...       ...           ...                        ...  \n",
       "738367 2025-01-06 14:28:42    280481                                     None  \n",
       "738368 2025-01-06 14:28:07    280480                                     None  \n",
       "738369 2025-01-06 14:39:24    280487                                     None  \n",
       "738370 2025-01-06 14:38:59    280486                                     None  \n",
       "738371 2025-01-06 15:09:28    280488                                     None  \n",
       "\n",
       "[738372 rows x 18 columns]"
      ]
     },
     "execution_count": 57,
     "metadata": {},
     "output_type": "execute_result"
    }
   ],
   "source": [
    "incdet"
   ]
  },
  {
   "cell_type": "code",
   "execution_count": 59,
   "id": "b0ddfc73-ff5a-4c13-bf81-42230f15bb93",
   "metadata": {},
   "outputs": [
    {
     "data": {
      "text/html": [
       "<div>\n",
       "<style scoped>\n",
       "    .dataframe tbody tr th:only-of-type {\n",
       "        vertical-align: middle;\n",
       "    }\n",
       "\n",
       "    .dataframe tbody tr th {\n",
       "        vertical-align: top;\n",
       "    }\n",
       "\n",
       "    .dataframe thead th {\n",
       "        text-align: right;\n",
       "    }\n",
       "</style>\n",
       "<table border=\"1\" class=\"dataframe\">\n",
       "  <thead>\n",
       "    <tr style=\"text-align: right;\">\n",
       "      <th></th>\n",
       "      <th>ID</th>\n",
       "      <th>DeliverToName</th>\n",
       "      <th>AddressLine1</th>\n",
       "      <th>AddressLine2</th>\n",
       "      <th>City</th>\n",
       "      <th>State</th>\n",
       "      <th>ZipCode</th>\n",
       "      <th>BillToName</th>\n",
       "      <th>AddLine1</th>\n",
       "      <th>AddLine2</th>\n",
       "      <th>...</th>\n",
       "      <th>IsLocked</th>\n",
       "      <th>ContactNumber1</th>\n",
       "      <th>ContactNumber2</th>\n",
       "      <th>ContactNumber3</th>\n",
       "      <th>ContactNumber4</th>\n",
       "      <th>ContactNumber5</th>\n",
       "      <th>EmailISReport</th>\n",
       "      <th>Abbreviation</th>\n",
       "      <th>LinenArrivalCondition</th>\n",
       "      <th>RoomsQty</th>\n",
       "    </tr>\n",
       "  </thead>\n",
       "  <tbody>\n",
       "    <tr>\n",
       "      <th>0</th>\n",
       "      <td>1</td>\n",
       "      <td>Trump Spa</td>\n",
       "      <td>410 N. Wabash St.</td>\n",
       "      <td></td>\n",
       "      <td>Chicago</td>\n",
       "      <td>IL</td>\n",
       "      <td>60611</td>\n",
       "      <td>Ttump Int'l Hotel &amp; Tower</td>\n",
       "      <td>410 N. Wabash St.</td>\n",
       "      <td></td>\n",
       "      <td>...</td>\n",
       "      <td>False</td>\n",
       "      <td></td>\n",
       "      <td></td>\n",
       "      <td></td>\n",
       "      <td></td>\n",
       "      <td></td>\n",
       "      <td>None</td>\n",
       "      <td></td>\n",
       "      <td>3</td>\n",
       "      <td>0</td>\n",
       "    </tr>\n",
       "    <tr>\n",
       "      <th>1</th>\n",
       "      <td>2</td>\n",
       "      <td>Peninsula</td>\n",
       "      <td>108 E. Superior St.</td>\n",
       "      <td></td>\n",
       "      <td>Chicago</td>\n",
       "      <td>IL</td>\n",
       "      <td>60611</td>\n",
       "      <td>Peninsula Chicago Hotel</td>\n",
       "      <td>108 E. Superior St.</td>\n",
       "      <td></td>\n",
       "      <td>...</td>\n",
       "      <td>False</td>\n",
       "      <td></td>\n",
       "      <td></td>\n",
       "      <td></td>\n",
       "      <td></td>\n",
       "      <td></td>\n",
       "      <td>False</td>\n",
       "      <td>Pen</td>\n",
       "      <td>3</td>\n",
       "      <td>0</td>\n",
       "    </tr>\n",
       "    <tr>\n",
       "      <th>2</th>\n",
       "      <td>3</td>\n",
       "      <td>Allegro</td>\n",
       "      <td>171 W. Randolph St.</td>\n",
       "      <td></td>\n",
       "      <td>Chicago</td>\n",
       "      <td>IL</td>\n",
       "      <td>60601</td>\n",
       "      <td>Hotel Allegro Chicago</td>\n",
       "      <td>171 W. Randolph St.</td>\n",
       "      <td></td>\n",
       "      <td>...</td>\n",
       "      <td>False</td>\n",
       "      <td></td>\n",
       "      <td></td>\n",
       "      <td></td>\n",
       "      <td></td>\n",
       "      <td></td>\n",
       "      <td>False</td>\n",
       "      <td>A</td>\n",
       "      <td>3</td>\n",
       "      <td>0</td>\n",
       "    </tr>\n",
       "    <tr>\n",
       "      <th>3</th>\n",
       "      <td>4</td>\n",
       "      <td>Knickerbocker</td>\n",
       "      <td>163 E. Walton Pl.</td>\n",
       "      <td></td>\n",
       "      <td>Chicago</td>\n",
       "      <td>IL</td>\n",
       "      <td>60611</td>\n",
       "      <td>Millenium Knickerbocker Hotel Chicago</td>\n",
       "      <td>163 E. Walton Pl.</td>\n",
       "      <td></td>\n",
       "      <td>...</td>\n",
       "      <td>False</td>\n",
       "      <td></td>\n",
       "      <td></td>\n",
       "      <td></td>\n",
       "      <td></td>\n",
       "      <td></td>\n",
       "      <td>False</td>\n",
       "      <td>K</td>\n",
       "      <td>3</td>\n",
       "      <td>0</td>\n",
       "    </tr>\n",
       "    <tr>\n",
       "      <th>4</th>\n",
       "      <td>5</td>\n",
       "      <td>Omni</td>\n",
       "      <td>676 N. Michigan Av,</td>\n",
       "      <td></td>\n",
       "      <td>Chicago</td>\n",
       "      <td>IL</td>\n",
       "      <td>60611</td>\n",
       "      <td>Omni Chicago Hotel</td>\n",
       "      <td>676 N. Michigan Av,</td>\n",
       "      <td></td>\n",
       "      <td>...</td>\n",
       "      <td>False</td>\n",
       "      <td></td>\n",
       "      <td></td>\n",
       "      <td></td>\n",
       "      <td></td>\n",
       "      <td></td>\n",
       "      <td>False</td>\n",
       "      <td>OCH</td>\n",
       "      <td>3</td>\n",
       "      <td>0</td>\n",
       "    </tr>\n",
       "    <tr>\n",
       "      <th>...</th>\n",
       "      <td>...</td>\n",
       "      <td>...</td>\n",
       "      <td>...</td>\n",
       "      <td>...</td>\n",
       "      <td>...</td>\n",
       "      <td>...</td>\n",
       "      <td>...</td>\n",
       "      <td>...</td>\n",
       "      <td>...</td>\n",
       "      <td>...</td>\n",
       "      <td>...</td>\n",
       "      <td>...</td>\n",
       "      <td>...</td>\n",
       "      <td>...</td>\n",
       "      <td>...</td>\n",
       "      <td>...</td>\n",
       "      <td>...</td>\n",
       "      <td>...</td>\n",
       "      <td>...</td>\n",
       "      <td>...</td>\n",
       "      <td>...</td>\n",
       "    </tr>\n",
       "    <tr>\n",
       "      <th>77</th>\n",
       "      <td>78</td>\n",
       "      <td>The St. Regis Chicago</td>\n",
       "      <td>401 E. Wacker Drive</td>\n",
       "      <td></td>\n",
       "      <td>Chicago</td>\n",
       "      <td>IL</td>\n",
       "      <td>60601</td>\n",
       "      <td>The St. Regis Chicago</td>\n",
       "      <td>401 E. Wacker Drive</td>\n",
       "      <td></td>\n",
       "      <td>...</td>\n",
       "      <td>False</td>\n",
       "      <td></td>\n",
       "      <td></td>\n",
       "      <td></td>\n",
       "      <td></td>\n",
       "      <td></td>\n",
       "      <td>False</td>\n",
       "      <td>TSRC</td>\n",
       "      <td>3</td>\n",
       "      <td>0</td>\n",
       "    </tr>\n",
       "    <tr>\n",
       "      <th>78</th>\n",
       "      <td>79</td>\n",
       "      <td>EcoBrite</td>\n",
       "      <td>3712 Jarvis Ave</td>\n",
       "      <td></td>\n",
       "      <td>Skokie</td>\n",
       "      <td>IL</td>\n",
       "      <td>60076</td>\n",
       "      <td>EcoBrite</td>\n",
       "      <td>3712 Jarvis Ave</td>\n",
       "      <td></td>\n",
       "      <td>...</td>\n",
       "      <td>False</td>\n",
       "      <td></td>\n",
       "      <td></td>\n",
       "      <td></td>\n",
       "      <td></td>\n",
       "      <td></td>\n",
       "      <td>False</td>\n",
       "      <td>EB</td>\n",
       "      <td>3</td>\n",
       "      <td>0</td>\n",
       "    </tr>\n",
       "    <tr>\n",
       "      <th>79</th>\n",
       "      <td>80</td>\n",
       "      <td>Westin Chicago River North</td>\n",
       "      <td>320 N. Dearborn St.</td>\n",
       "      <td></td>\n",
       "      <td>Chicago</td>\n",
       "      <td>IL</td>\n",
       "      <td>60654</td>\n",
       "      <td>Westin Chicago River North</td>\n",
       "      <td>320 N. Dearborn St.</td>\n",
       "      <td></td>\n",
       "      <td>...</td>\n",
       "      <td>False</td>\n",
       "      <td></td>\n",
       "      <td></td>\n",
       "      <td></td>\n",
       "      <td></td>\n",
       "      <td></td>\n",
       "      <td>False</td>\n",
       "      <td>WCRN</td>\n",
       "      <td>3</td>\n",
       "      <td>0</td>\n",
       "    </tr>\n",
       "    <tr>\n",
       "      <th>80</th>\n",
       "      <td>81</td>\n",
       "      <td>AC Chicago Hotel</td>\n",
       "      <td>630 N Rush St</td>\n",
       "      <td></td>\n",
       "      <td>Chicago</td>\n",
       "      <td>IL</td>\n",
       "      <td>60611</td>\n",
       "      <td>AC Chicago Hotel</td>\n",
       "      <td>630 N Rush St</td>\n",
       "      <td></td>\n",
       "      <td>...</td>\n",
       "      <td>False</td>\n",
       "      <td></td>\n",
       "      <td></td>\n",
       "      <td></td>\n",
       "      <td></td>\n",
       "      <td></td>\n",
       "      <td>False</td>\n",
       "      <td>ACHCD</td>\n",
       "      <td>3</td>\n",
       "      <td>0</td>\n",
       "    </tr>\n",
       "    <tr>\n",
       "      <th>81</th>\n",
       "      <td>82</td>\n",
       "      <td>London House Chicago</td>\n",
       "      <td>85 E. Wacker Dr.</td>\n",
       "      <td></td>\n",
       "      <td>Chicago</td>\n",
       "      <td>IL</td>\n",
       "      <td>60601</td>\n",
       "      <td>London House Chicago</td>\n",
       "      <td>85 E. Wacker Dr.</td>\n",
       "      <td></td>\n",
       "      <td>...</td>\n",
       "      <td>False</td>\n",
       "      <td></td>\n",
       "      <td></td>\n",
       "      <td></td>\n",
       "      <td></td>\n",
       "      <td></td>\n",
       "      <td>False</td>\n",
       "      <td>LHC</td>\n",
       "      <td>3</td>\n",
       "      <td>0</td>\n",
       "    </tr>\n",
       "  </tbody>\n",
       "</table>\n",
       "<p>82 rows × 42 columns</p>\n",
       "</div>"
      ],
      "text/plain": [
       "    ID               DeliverToName         AddressLine1 AddressLine2     City  \\\n",
       "0    1                   Trump Spa    410 N. Wabash St.               Chicago   \n",
       "1    2                   Peninsula  108 E. Superior St.               Chicago   \n",
       "2    3                     Allegro  171 W. Randolph St.               Chicago   \n",
       "3    4               Knickerbocker    163 E. Walton Pl.               Chicago   \n",
       "4    5                        Omni  676 N. Michigan Av,               Chicago   \n",
       "..  ..                         ...                  ...          ...      ...   \n",
       "77  78       The St. Regis Chicago  401 E. Wacker Drive               Chicago   \n",
       "78  79                    EcoBrite      3712 Jarvis Ave                Skokie   \n",
       "79  80  Westin Chicago River North  320 N. Dearborn St.               Chicago   \n",
       "80  81            AC Chicago Hotel        630 N Rush St               Chicago   \n",
       "81  82        London House Chicago     85 E. Wacker Dr.               Chicago   \n",
       "\n",
       "   State ZipCode                             BillToName             AddLine1  \\\n",
       "0     IL   60611              Ttump Int'l Hotel & Tower    410 N. Wabash St.   \n",
       "1     IL   60611                Peninsula Chicago Hotel  108 E. Superior St.   \n",
       "2     IL   60601                  Hotel Allegro Chicago  171 W. Randolph St.   \n",
       "3     IL   60611  Millenium Knickerbocker Hotel Chicago    163 E. Walton Pl.   \n",
       "4     IL   60611                     Omni Chicago Hotel  676 N. Michigan Av,   \n",
       "..   ...     ...                                    ...                  ...   \n",
       "77    IL   60601                  The St. Regis Chicago  401 E. Wacker Drive   \n",
       "78    IL   60076                               EcoBrite      3712 Jarvis Ave   \n",
       "79    IL   60654             Westin Chicago River North  320 N. Dearborn St.   \n",
       "80    IL   60611                       AC Chicago Hotel        630 N Rush St   \n",
       "81    IL   60601                   London House Chicago     85 E. Wacker Dr.   \n",
       "\n",
       "   AddLine2  ... IsLocked ContactNumber1 ContactNumber2 ContactNumber3  \\\n",
       "0            ...    False                                                \n",
       "1            ...    False                                                \n",
       "2            ...    False                                                \n",
       "3            ...    False                                                \n",
       "4            ...    False                                                \n",
       "..      ...  ...      ...            ...            ...            ...   \n",
       "77           ...    False                                                \n",
       "78           ...    False                                                \n",
       "79           ...    False                                                \n",
       "80           ...    False                                                \n",
       "81           ...    False                                                \n",
       "\n",
       "   ContactNumber4 ContactNumber5 EmailISReport Abbreviation  \\\n",
       "0                                         None                \n",
       "1                                        False          Pen   \n",
       "2                                        False            A   \n",
       "3                                        False            K   \n",
       "4                                        False          OCH   \n",
       "..            ...            ...           ...          ...   \n",
       "77                                       False         TSRC   \n",
       "78                                       False           EB   \n",
       "79                                       False         WCRN   \n",
       "80                                       False        ACHCD   \n",
       "81                                       False          LHC   \n",
       "\n",
       "   LinenArrivalCondition RoomsQty  \n",
       "0                      3        0  \n",
       "1                      3        0  \n",
       "2                      3        0  \n",
       "3                      3        0  \n",
       "4                      3        0  \n",
       "..                   ...      ...  \n",
       "77                     3        0  \n",
       "78                     3        0  \n",
       "79                     3        0  \n",
       "80                     3        0  \n",
       "81                     3        0  \n",
       "\n",
       "[82 rows x 42 columns]"
      ]
     },
     "execution_count": 59,
     "metadata": {},
     "output_type": "execute_result"
    }
   ],
   "source": [
    "cust = get_table(\"Customer\")\n",
    "cust"
   ]
  },
  {
   "cell_type": "code",
   "execution_count": 9,
   "id": "4a42a1fc-3e91-45cf-b3a7-6dec7408a1be",
   "metadata": {},
   "outputs": [
    {
     "ename": "Error",
     "evalue": "('01000', '[01000] [Microsoft][ODBC SQL Server Driver][DBNETLIB]ConnectionWrite (send()). (10054) (SQLExecDirectW); [01000] [Microsoft][ODBC SQL Server Driver][DBNETLIB]General network error. Check your network documentation. (11)')",
     "output_type": "error",
     "traceback": [
      "\u001b[1;31m---------------------------------------------------------------------------\u001b[0m",
      "\u001b[1;31mError\u001b[0m                                     Traceback (most recent call last)",
      "Cell \u001b[1;32mIn[9], line 1\u001b[0m\n\u001b[1;32m----> 1\u001b[0m out \u001b[38;5;241m=\u001b[39m \u001b[43mget_table\u001b[49m\u001b[43m(\u001b[49m\u001b[38;5;124;43m\"\u001b[39;49m\u001b[38;5;124;43mOutgoingCleanLinenItems\u001b[39;49m\u001b[38;5;124;43m\"\u001b[39;49m\u001b[43m)\u001b[49m\n\u001b[0;32m      2\u001b[0m out\n",
      "Cell \u001b[1;32mIn[5], line 2\u001b[0m, in \u001b[0;36mget_table\u001b[1;34m(name)\u001b[0m\n\u001b[0;32m      1\u001b[0m \u001b[38;5;28;01mdef\u001b[39;00m \u001b[38;5;21mget_table\u001b[39m(name):\n\u001b[1;32m----> 2\u001b[0m     row  \u001b[38;5;241m=\u001b[39m \u001b[43mcursor\u001b[49m\u001b[38;5;241;43m.\u001b[39;49m\u001b[43mexecute\u001b[49m\u001b[43m(\u001b[49m\u001b[38;5;124;43m\"\u001b[39;49m\u001b[38;5;124;43mSELECT * FROM INFORMATION_SCHEMA.COLUMNS WHERE TABLE_NAME = N\u001b[39;49m\u001b[38;5;124;43m'\u001b[39;49m\u001b[38;5;124;43m\"\u001b[39;49m\u001b[43m \u001b[49m\u001b[38;5;241;43m+\u001b[39;49m\u001b[43m \u001b[49m\u001b[43mname\u001b[49m\u001b[43m \u001b[49m\u001b[38;5;241;43m+\u001b[39;49m\u001b[43m \u001b[49m\u001b[38;5;124;43m\"\u001b[39;49m\u001b[38;5;124;43m'\u001b[39;49m\u001b[38;5;124;43m\"\u001b[39;49m\u001b[43m)\u001b[49m\u001b[38;5;241m.\u001b[39mfetchall()\n\u001b[0;32m      3\u001b[0m     row \u001b[38;5;241m=\u001b[39m np\u001b[38;5;241m.\u001b[39marray(row)\n\u001b[0;32m      4\u001b[0m     cnames \u001b[38;5;241m=\u001b[39m row[:,\u001b[38;5;241m3\u001b[39m]\n",
      "\u001b[1;31mError\u001b[0m: ('01000', '[01000] [Microsoft][ODBC SQL Server Driver][DBNETLIB]ConnectionWrite (send()). (10054) (SQLExecDirectW); [01000] [Microsoft][ODBC SQL Server Driver][DBNETLIB]General network error. Check your network documentation. (11)')"
     ]
    }
   ],
   "source": [
    "out = get_table(\"OutgoingCleanLinenItems\")\n",
    "out"
   ]
  },
  {
   "cell_type": "code",
   "execution_count": 69,
   "id": "25460621-2242-408b-ac0f-a771d7d1a295",
   "metadata": {},
   "outputs": [
    {
     "name": "stdout",
     "output_type": "stream",
     "text": [
      "-87.63006081450077 41.88817\n"
     ]
    }
   ],
   "source": [
    "from geopy.geocoders import Nominatim\n",
    "geolocator = Nominatim(user_agent=\"my-application22\")\n",
    "location = geolocator.geocode(\"320 N. Dearborn St. Chicago\")\n",
    "print(location.longitude, location.latitude)"
   ]
  },
  {
   "cell_type": "code",
   "execution_count": 91,
   "id": "85bd9726-8217-4889-a4db-e25090b8735c",
   "metadata": {},
   "outputs": [
    {
     "data": {
      "text/html": [
       "<div>\n",
       "<style scoped>\n",
       "    .dataframe tbody tr th:only-of-type {\n",
       "        vertical-align: middle;\n",
       "    }\n",
       "\n",
       "    .dataframe tbody tr th {\n",
       "        vertical-align: top;\n",
       "    }\n",
       "\n",
       "    .dataframe thead th {\n",
       "        text-align: right;\n",
       "    }\n",
       "</style>\n",
       "<table border=\"1\" class=\"dataframe\">\n",
       "  <thead>\n",
       "    <tr style=\"text-align: right;\">\n",
       "      <th></th>\n",
       "      <th>0</th>\n",
       "      <th>1</th>\n",
       "      <th>Long</th>\n",
       "      <th>Lat</th>\n",
       "      <th>size</th>\n",
       "      <th>Listed</th>\n",
       "      <th>Address</th>\n",
       "    </tr>\n",
       "  </thead>\n",
       "  <tbody>\n",
       "    <tr>\n",
       "      <th>0</th>\n",
       "      <td>-87.630061</td>\n",
       "      <td>41.88817</td>\n",
       "      <td>-87.630061</td>\n",
       "      <td>41.88817</td>\n",
       "      <td>5</td>\n",
       "      <td>2</td>\n",
       "      <td>The Westin Chicago River North, 320, North Dea...</td>\n",
       "    </tr>\n",
       "  </tbody>\n",
       "</table>\n",
       "</div>"
      ],
      "text/plain": [
       "           0         1       Long       Lat  size  Listed  \\\n",
       "0 -87.630061  41.88817 -87.630061  41.88817     5       2   \n",
       "\n",
       "                                             Address  \n",
       "0  The Westin Chicago River North, 320, North Dea...  "
      ]
     },
     "execution_count": 91,
     "metadata": {},
     "output_type": "execute_result"
    }
   ],
   "source": [
    "df = pd.DataFrame(np.array([(location.longitude, location.latitude)]))\n",
    "df['Long'] = df[0]\n",
    "df['Lat'] = df[1]\n",
    "df['size'] = 5\n",
    "df['Listed'] = 2\n",
    "df['Address'] = location.address\n",
    "df"
   ]
  },
  {
   "cell_type": "code",
   "execution_count": 102,
   "id": "a674915b-11f0-4a20-8b57-7d2ab7444e3d",
   "metadata": {
    "scrolled": true
   },
   "outputs": [
    {
     "data": {
      "application/vnd.plotly.v1+json": {
       "config": {
        "plotlyServerURL": "https://plot.ly"
       },
       "data": [
        {
         "hovertemplate": "<b>%{hovertext}</b><br><br>Listed=%{marker.size}<br>Lat=%{lat}<br>Long=%{lon}<extra></extra>",
         "hovertext": [
          "The Westin Chicago River North, 320, North Dearborn Street, River North, Near North Side, Chicago, Cook County, Illinois, 60654, United States"
         ],
         "lat": [
          41.88817
         ],
         "legendgroup": "",
         "lon": [
          -87.63006081450077
         ],
         "marker": {
          "color": "#636efa",
          "size": [
           2
          ],
          "sizemode": "area",
          "sizeref": 0.005
         },
         "mode": "markers",
         "name": "",
         "showlegend": false,
         "subplot": "mapbox",
         "type": "scattermapbox"
        }
       ],
       "layout": {
        "height": 10000,
        "legend": {
         "itemsizing": "constant",
         "tracegroupgap": 0
        },
        "mapbox": {
         "accesstoken": "pk.eyJ1IjoiZGV2b25zb2wiLCJhIjoiY201bGthaGZzMGswZzJrcTFqYzQ4bTU1NyJ9.DXto0VUdrjoLK6XZa7r0cQ",
         "center": {
          "lat": 41.88817,
          "lon": -87.63006081450077
         },
         "domain": {
          "x": [
           0,
           1
          ],
          "y": [
           0,
           1
          ]
         },
         "style": "streets",
         "zoom": 3
        },
        "margin": {
         "b": 0,
         "l": 0,
         "r": 0,
         "t": 0
        },
        "showlegend": false,
        "template": {
         "data": {
          "bar": [
           {
            "error_x": {
             "color": "#2a3f5f"
            },
            "error_y": {
             "color": "#2a3f5f"
            },
            "marker": {
             "line": {
              "color": "#E5ECF6",
              "width": 0.5
             },
             "pattern": {
              "fillmode": "overlay",
              "size": 10,
              "solidity": 0.2
             }
            },
            "type": "bar"
           }
          ],
          "barpolar": [
           {
            "marker": {
             "line": {
              "color": "#E5ECF6",
              "width": 0.5
             },
             "pattern": {
              "fillmode": "overlay",
              "size": 10,
              "solidity": 0.2
             }
            },
            "type": "barpolar"
           }
          ],
          "carpet": [
           {
            "aaxis": {
             "endlinecolor": "#2a3f5f",
             "gridcolor": "white",
             "linecolor": "white",
             "minorgridcolor": "white",
             "startlinecolor": "#2a3f5f"
            },
            "baxis": {
             "endlinecolor": "#2a3f5f",
             "gridcolor": "white",
             "linecolor": "white",
             "minorgridcolor": "white",
             "startlinecolor": "#2a3f5f"
            },
            "type": "carpet"
           }
          ],
          "choropleth": [
           {
            "colorbar": {
             "outlinewidth": 0,
             "ticks": ""
            },
            "type": "choropleth"
           }
          ],
          "contour": [
           {
            "colorbar": {
             "outlinewidth": 0,
             "ticks": ""
            },
            "colorscale": [
             [
              0,
              "#0d0887"
             ],
             [
              0.1111111111111111,
              "#46039f"
             ],
             [
              0.2222222222222222,
              "#7201a8"
             ],
             [
              0.3333333333333333,
              "#9c179e"
             ],
             [
              0.4444444444444444,
              "#bd3786"
             ],
             [
              0.5555555555555556,
              "#d8576b"
             ],
             [
              0.6666666666666666,
              "#ed7953"
             ],
             [
              0.7777777777777778,
              "#fb9f3a"
             ],
             [
              0.8888888888888888,
              "#fdca26"
             ],
             [
              1,
              "#f0f921"
             ]
            ],
            "type": "contour"
           }
          ],
          "contourcarpet": [
           {
            "colorbar": {
             "outlinewidth": 0,
             "ticks": ""
            },
            "type": "contourcarpet"
           }
          ],
          "heatmap": [
           {
            "colorbar": {
             "outlinewidth": 0,
             "ticks": ""
            },
            "colorscale": [
             [
              0,
              "#0d0887"
             ],
             [
              0.1111111111111111,
              "#46039f"
             ],
             [
              0.2222222222222222,
              "#7201a8"
             ],
             [
              0.3333333333333333,
              "#9c179e"
             ],
             [
              0.4444444444444444,
              "#bd3786"
             ],
             [
              0.5555555555555556,
              "#d8576b"
             ],
             [
              0.6666666666666666,
              "#ed7953"
             ],
             [
              0.7777777777777778,
              "#fb9f3a"
             ],
             [
              0.8888888888888888,
              "#fdca26"
             ],
             [
              1,
              "#f0f921"
             ]
            ],
            "type": "heatmap"
           }
          ],
          "heatmapgl": [
           {
            "colorbar": {
             "outlinewidth": 0,
             "ticks": ""
            },
            "colorscale": [
             [
              0,
              "#0d0887"
             ],
             [
              0.1111111111111111,
              "#46039f"
             ],
             [
              0.2222222222222222,
              "#7201a8"
             ],
             [
              0.3333333333333333,
              "#9c179e"
             ],
             [
              0.4444444444444444,
              "#bd3786"
             ],
             [
              0.5555555555555556,
              "#d8576b"
             ],
             [
              0.6666666666666666,
              "#ed7953"
             ],
             [
              0.7777777777777778,
              "#fb9f3a"
             ],
             [
              0.8888888888888888,
              "#fdca26"
             ],
             [
              1,
              "#f0f921"
             ]
            ],
            "type": "heatmapgl"
           }
          ],
          "histogram": [
           {
            "marker": {
             "pattern": {
              "fillmode": "overlay",
              "size": 10,
              "solidity": 0.2
             }
            },
            "type": "histogram"
           }
          ],
          "histogram2d": [
           {
            "colorbar": {
             "outlinewidth": 0,
             "ticks": ""
            },
            "colorscale": [
             [
              0,
              "#0d0887"
             ],
             [
              0.1111111111111111,
              "#46039f"
             ],
             [
              0.2222222222222222,
              "#7201a8"
             ],
             [
              0.3333333333333333,
              "#9c179e"
             ],
             [
              0.4444444444444444,
              "#bd3786"
             ],
             [
              0.5555555555555556,
              "#d8576b"
             ],
             [
              0.6666666666666666,
              "#ed7953"
             ],
             [
              0.7777777777777778,
              "#fb9f3a"
             ],
             [
              0.8888888888888888,
              "#fdca26"
             ],
             [
              1,
              "#f0f921"
             ]
            ],
            "type": "histogram2d"
           }
          ],
          "histogram2dcontour": [
           {
            "colorbar": {
             "outlinewidth": 0,
             "ticks": ""
            },
            "colorscale": [
             [
              0,
              "#0d0887"
             ],
             [
              0.1111111111111111,
              "#46039f"
             ],
             [
              0.2222222222222222,
              "#7201a8"
             ],
             [
              0.3333333333333333,
              "#9c179e"
             ],
             [
              0.4444444444444444,
              "#bd3786"
             ],
             [
              0.5555555555555556,
              "#d8576b"
             ],
             [
              0.6666666666666666,
              "#ed7953"
             ],
             [
              0.7777777777777778,
              "#fb9f3a"
             ],
             [
              0.8888888888888888,
              "#fdca26"
             ],
             [
              1,
              "#f0f921"
             ]
            ],
            "type": "histogram2dcontour"
           }
          ],
          "mesh3d": [
           {
            "colorbar": {
             "outlinewidth": 0,
             "ticks": ""
            },
            "type": "mesh3d"
           }
          ],
          "parcoords": [
           {
            "line": {
             "colorbar": {
              "outlinewidth": 0,
              "ticks": ""
             }
            },
            "type": "parcoords"
           }
          ],
          "pie": [
           {
            "automargin": true,
            "type": "pie"
           }
          ],
          "scatter": [
           {
            "fillpattern": {
             "fillmode": "overlay",
             "size": 10,
             "solidity": 0.2
            },
            "type": "scatter"
           }
          ],
          "scatter3d": [
           {
            "line": {
             "colorbar": {
              "outlinewidth": 0,
              "ticks": ""
             }
            },
            "marker": {
             "colorbar": {
              "outlinewidth": 0,
              "ticks": ""
             }
            },
            "type": "scatter3d"
           }
          ],
          "scattercarpet": [
           {
            "marker": {
             "colorbar": {
              "outlinewidth": 0,
              "ticks": ""
             }
            },
            "type": "scattercarpet"
           }
          ],
          "scattergeo": [
           {
            "marker": {
             "colorbar": {
              "outlinewidth": 0,
              "ticks": ""
             }
            },
            "type": "scattergeo"
           }
          ],
          "scattergl": [
           {
            "marker": {
             "colorbar": {
              "outlinewidth": 0,
              "ticks": ""
             }
            },
            "type": "scattergl"
           }
          ],
          "scattermapbox": [
           {
            "marker": {
             "colorbar": {
              "outlinewidth": 0,
              "ticks": ""
             }
            },
            "type": "scattermapbox"
           }
          ],
          "scatterpolar": [
           {
            "marker": {
             "colorbar": {
              "outlinewidth": 0,
              "ticks": ""
             }
            },
            "type": "scatterpolar"
           }
          ],
          "scatterpolargl": [
           {
            "marker": {
             "colorbar": {
              "outlinewidth": 0,
              "ticks": ""
             }
            },
            "type": "scatterpolargl"
           }
          ],
          "scatterternary": [
           {
            "marker": {
             "colorbar": {
              "outlinewidth": 0,
              "ticks": ""
             }
            },
            "type": "scatterternary"
           }
          ],
          "surface": [
           {
            "colorbar": {
             "outlinewidth": 0,
             "ticks": ""
            },
            "colorscale": [
             [
              0,
              "#0d0887"
             ],
             [
              0.1111111111111111,
              "#46039f"
             ],
             [
              0.2222222222222222,
              "#7201a8"
             ],
             [
              0.3333333333333333,
              "#9c179e"
             ],
             [
              0.4444444444444444,
              "#bd3786"
             ],
             [
              0.5555555555555556,
              "#d8576b"
             ],
             [
              0.6666666666666666,
              "#ed7953"
             ],
             [
              0.7777777777777778,
              "#fb9f3a"
             ],
             [
              0.8888888888888888,
              "#fdca26"
             ],
             [
              1,
              "#f0f921"
             ]
            ],
            "type": "surface"
           }
          ],
          "table": [
           {
            "cells": {
             "fill": {
              "color": "#EBF0F8"
             },
             "line": {
              "color": "white"
             }
            },
            "header": {
             "fill": {
              "color": "#C8D4E3"
             },
             "line": {
              "color": "white"
             }
            },
            "type": "table"
           }
          ]
         },
         "layout": {
          "annotationdefaults": {
           "arrowcolor": "#2a3f5f",
           "arrowhead": 0,
           "arrowwidth": 1
          },
          "autotypenumbers": "strict",
          "coloraxis": {
           "colorbar": {
            "outlinewidth": 0,
            "ticks": ""
           }
          },
          "colorscale": {
           "diverging": [
            [
             0,
             "#8e0152"
            ],
            [
             0.1,
             "#c51b7d"
            ],
            [
             0.2,
             "#de77ae"
            ],
            [
             0.3,
             "#f1b6da"
            ],
            [
             0.4,
             "#fde0ef"
            ],
            [
             0.5,
             "#f7f7f7"
            ],
            [
             0.6,
             "#e6f5d0"
            ],
            [
             0.7,
             "#b8e186"
            ],
            [
             0.8,
             "#7fbc41"
            ],
            [
             0.9,
             "#4d9221"
            ],
            [
             1,
             "#276419"
            ]
           ],
           "sequential": [
            [
             0,
             "#0d0887"
            ],
            [
             0.1111111111111111,
             "#46039f"
            ],
            [
             0.2222222222222222,
             "#7201a8"
            ],
            [
             0.3333333333333333,
             "#9c179e"
            ],
            [
             0.4444444444444444,
             "#bd3786"
            ],
            [
             0.5555555555555556,
             "#d8576b"
            ],
            [
             0.6666666666666666,
             "#ed7953"
            ],
            [
             0.7777777777777778,
             "#fb9f3a"
            ],
            [
             0.8888888888888888,
             "#fdca26"
            ],
            [
             1,
             "#f0f921"
            ]
           ],
           "sequentialminus": [
            [
             0,
             "#0d0887"
            ],
            [
             0.1111111111111111,
             "#46039f"
            ],
            [
             0.2222222222222222,
             "#7201a8"
            ],
            [
             0.3333333333333333,
             "#9c179e"
            ],
            [
             0.4444444444444444,
             "#bd3786"
            ],
            [
             0.5555555555555556,
             "#d8576b"
            ],
            [
             0.6666666666666666,
             "#ed7953"
            ],
            [
             0.7777777777777778,
             "#fb9f3a"
            ],
            [
             0.8888888888888888,
             "#fdca26"
            ],
            [
             1,
             "#f0f921"
            ]
           ]
          },
          "colorway": [
           "#636efa",
           "#EF553B",
           "#00cc96",
           "#ab63fa",
           "#FFA15A",
           "#19d3f3",
           "#FF6692",
           "#B6E880",
           "#FF97FF",
           "#FECB52"
          ],
          "font": {
           "color": "#2a3f5f"
          },
          "geo": {
           "bgcolor": "white",
           "lakecolor": "white",
           "landcolor": "#E5ECF6",
           "showlakes": true,
           "showland": true,
           "subunitcolor": "white"
          },
          "hoverlabel": {
           "align": "left"
          },
          "hovermode": "closest",
          "mapbox": {
           "style": "light"
          },
          "paper_bgcolor": "white",
          "plot_bgcolor": "#E5ECF6",
          "polar": {
           "angularaxis": {
            "gridcolor": "white",
            "linecolor": "white",
            "ticks": ""
           },
           "bgcolor": "#E5ECF6",
           "radialaxis": {
            "gridcolor": "white",
            "linecolor": "white",
            "ticks": ""
           }
          },
          "scene": {
           "xaxis": {
            "backgroundcolor": "#E5ECF6",
            "gridcolor": "white",
            "gridwidth": 2,
            "linecolor": "white",
            "showbackground": true,
            "ticks": "",
            "zerolinecolor": "white"
           },
           "yaxis": {
            "backgroundcolor": "#E5ECF6",
            "gridcolor": "white",
            "gridwidth": 2,
            "linecolor": "white",
            "showbackground": true,
            "ticks": "",
            "zerolinecolor": "white"
           },
           "zaxis": {
            "backgroundcolor": "#E5ECF6",
            "gridcolor": "white",
            "gridwidth": 2,
            "linecolor": "white",
            "showbackground": true,
            "ticks": "",
            "zerolinecolor": "white"
           }
          },
          "shapedefaults": {
           "line": {
            "color": "#2a3f5f"
           }
          },
          "ternary": {
           "aaxis": {
            "gridcolor": "white",
            "linecolor": "white",
            "ticks": ""
           },
           "baxis": {
            "gridcolor": "white",
            "linecolor": "white",
            "ticks": ""
           },
           "bgcolor": "#E5ECF6",
           "caxis": {
            "gridcolor": "white",
            "linecolor": "white",
            "ticks": ""
           }
          },
          "title": {
           "x": 0.05
          },
          "xaxis": {
           "automargin": true,
           "gridcolor": "white",
           "linecolor": "white",
           "ticks": "",
           "title": {
            "standoff": 15
           },
           "zerolinecolor": "white",
           "zerolinewidth": 2
          },
          "yaxis": {
           "automargin": true,
           "gridcolor": "white",
           "linecolor": "white",
           "ticks": "",
           "title": {
            "standoff": 15
           },
           "zerolinecolor": "white",
           "zerolinewidth": 2
          }
         }
        },
        "width": 800
       }
      },
      "text/html": [
       "<div>                            <div id=\"c7f0ad7e-60e8-479d-ba05-40308104da62\" class=\"plotly-graph-div\" style=\"height:10000px; width:800px;\"></div>            <script type=\"text/javascript\">                require([\"plotly\"], function(Plotly) {                    window.PLOTLYENV=window.PLOTLYENV || {};                                    if (document.getElementById(\"c7f0ad7e-60e8-479d-ba05-40308104da62\")) {                    Plotly.newPlot(                        \"c7f0ad7e-60e8-479d-ba05-40308104da62\",                        [{\"hovertemplate\":\"\\u003cb\\u003e%{hovertext}\\u003c\\u002fb\\u003e\\u003cbr\\u003e\\u003cbr\\u003eListed=%{marker.size}\\u003cbr\\u003eLat=%{lat}\\u003cbr\\u003eLong=%{lon}\\u003cextra\\u003e\\u003c\\u002fextra\\u003e\",\"hovertext\":[\"The Westin Chicago River North, 320, North Dearborn Street, River North, Near North Side, Chicago, Cook County, Illinois, 60654, United States\"],\"lat\":[41.88817],\"legendgroup\":\"\",\"lon\":[-87.63006081450077],\"marker\":{\"color\":\"#636efa\",\"size\":[2],\"sizemode\":\"area\",\"sizeref\":0.005},\"mode\":\"markers\",\"name\":\"\",\"showlegend\":false,\"subplot\":\"mapbox\",\"type\":\"scattermapbox\"}],                        {\"template\":{\"data\":{\"histogram2dcontour\":[{\"type\":\"histogram2dcontour\",\"colorbar\":{\"outlinewidth\":0,\"ticks\":\"\"},\"colorscale\":[[0.0,\"#0d0887\"],[0.1111111111111111,\"#46039f\"],[0.2222222222222222,\"#7201a8\"],[0.3333333333333333,\"#9c179e\"],[0.4444444444444444,\"#bd3786\"],[0.5555555555555556,\"#d8576b\"],[0.6666666666666666,\"#ed7953\"],[0.7777777777777778,\"#fb9f3a\"],[0.8888888888888888,\"#fdca26\"],[1.0,\"#f0f921\"]]}],\"choropleth\":[{\"type\":\"choropleth\",\"colorbar\":{\"outlinewidth\":0,\"ticks\":\"\"}}],\"histogram2d\":[{\"type\":\"histogram2d\",\"colorbar\":{\"outlinewidth\":0,\"ticks\":\"\"},\"colorscale\":[[0.0,\"#0d0887\"],[0.1111111111111111,\"#46039f\"],[0.2222222222222222,\"#7201a8\"],[0.3333333333333333,\"#9c179e\"],[0.4444444444444444,\"#bd3786\"],[0.5555555555555556,\"#d8576b\"],[0.6666666666666666,\"#ed7953\"],[0.7777777777777778,\"#fb9f3a\"],[0.8888888888888888,\"#fdca26\"],[1.0,\"#f0f921\"]]}],\"heatmap\":[{\"type\":\"heatmap\",\"colorbar\":{\"outlinewidth\":0,\"ticks\":\"\"},\"colorscale\":[[0.0,\"#0d0887\"],[0.1111111111111111,\"#46039f\"],[0.2222222222222222,\"#7201a8\"],[0.3333333333333333,\"#9c179e\"],[0.4444444444444444,\"#bd3786\"],[0.5555555555555556,\"#d8576b\"],[0.6666666666666666,\"#ed7953\"],[0.7777777777777778,\"#fb9f3a\"],[0.8888888888888888,\"#fdca26\"],[1.0,\"#f0f921\"]]}],\"heatmapgl\":[{\"type\":\"heatmapgl\",\"colorbar\":{\"outlinewidth\":0,\"ticks\":\"\"},\"colorscale\":[[0.0,\"#0d0887\"],[0.1111111111111111,\"#46039f\"],[0.2222222222222222,\"#7201a8\"],[0.3333333333333333,\"#9c179e\"],[0.4444444444444444,\"#bd3786\"],[0.5555555555555556,\"#d8576b\"],[0.6666666666666666,\"#ed7953\"],[0.7777777777777778,\"#fb9f3a\"],[0.8888888888888888,\"#fdca26\"],[1.0,\"#f0f921\"]]}],\"contourcarpet\":[{\"type\":\"contourcarpet\",\"colorbar\":{\"outlinewidth\":0,\"ticks\":\"\"}}],\"contour\":[{\"type\":\"contour\",\"colorbar\":{\"outlinewidth\":0,\"ticks\":\"\"},\"colorscale\":[[0.0,\"#0d0887\"],[0.1111111111111111,\"#46039f\"],[0.2222222222222222,\"#7201a8\"],[0.3333333333333333,\"#9c179e\"],[0.4444444444444444,\"#bd3786\"],[0.5555555555555556,\"#d8576b\"],[0.6666666666666666,\"#ed7953\"],[0.7777777777777778,\"#fb9f3a\"],[0.8888888888888888,\"#fdca26\"],[1.0,\"#f0f921\"]]}],\"surface\":[{\"type\":\"surface\",\"colorbar\":{\"outlinewidth\":0,\"ticks\":\"\"},\"colorscale\":[[0.0,\"#0d0887\"],[0.1111111111111111,\"#46039f\"],[0.2222222222222222,\"#7201a8\"],[0.3333333333333333,\"#9c179e\"],[0.4444444444444444,\"#bd3786\"],[0.5555555555555556,\"#d8576b\"],[0.6666666666666666,\"#ed7953\"],[0.7777777777777778,\"#fb9f3a\"],[0.8888888888888888,\"#fdca26\"],[1.0,\"#f0f921\"]]}],\"mesh3d\":[{\"type\":\"mesh3d\",\"colorbar\":{\"outlinewidth\":0,\"ticks\":\"\"}}],\"scatter\":[{\"fillpattern\":{\"fillmode\":\"overlay\",\"size\":10,\"solidity\":0.2},\"type\":\"scatter\"}],\"parcoords\":[{\"type\":\"parcoords\",\"line\":{\"colorbar\":{\"outlinewidth\":0,\"ticks\":\"\"}}}],\"scatterpolargl\":[{\"type\":\"scatterpolargl\",\"marker\":{\"colorbar\":{\"outlinewidth\":0,\"ticks\":\"\"}}}],\"bar\":[{\"error_x\":{\"color\":\"#2a3f5f\"},\"error_y\":{\"color\":\"#2a3f5f\"},\"marker\":{\"line\":{\"color\":\"#E5ECF6\",\"width\":0.5},\"pattern\":{\"fillmode\":\"overlay\",\"size\":10,\"solidity\":0.2}},\"type\":\"bar\"}],\"scattergeo\":[{\"type\":\"scattergeo\",\"marker\":{\"colorbar\":{\"outlinewidth\":0,\"ticks\":\"\"}}}],\"scatterpolar\":[{\"type\":\"scatterpolar\",\"marker\":{\"colorbar\":{\"outlinewidth\":0,\"ticks\":\"\"}}}],\"histogram\":[{\"marker\":{\"pattern\":{\"fillmode\":\"overlay\",\"size\":10,\"solidity\":0.2}},\"type\":\"histogram\"}],\"scattergl\":[{\"type\":\"scattergl\",\"marker\":{\"colorbar\":{\"outlinewidth\":0,\"ticks\":\"\"}}}],\"scatter3d\":[{\"type\":\"scatter3d\",\"line\":{\"colorbar\":{\"outlinewidth\":0,\"ticks\":\"\"}},\"marker\":{\"colorbar\":{\"outlinewidth\":0,\"ticks\":\"\"}}}],\"scattermapbox\":[{\"type\":\"scattermapbox\",\"marker\":{\"colorbar\":{\"outlinewidth\":0,\"ticks\":\"\"}}}],\"scatterternary\":[{\"type\":\"scatterternary\",\"marker\":{\"colorbar\":{\"outlinewidth\":0,\"ticks\":\"\"}}}],\"scattercarpet\":[{\"type\":\"scattercarpet\",\"marker\":{\"colorbar\":{\"outlinewidth\":0,\"ticks\":\"\"}}}],\"carpet\":[{\"aaxis\":{\"endlinecolor\":\"#2a3f5f\",\"gridcolor\":\"white\",\"linecolor\":\"white\",\"minorgridcolor\":\"white\",\"startlinecolor\":\"#2a3f5f\"},\"baxis\":{\"endlinecolor\":\"#2a3f5f\",\"gridcolor\":\"white\",\"linecolor\":\"white\",\"minorgridcolor\":\"white\",\"startlinecolor\":\"#2a3f5f\"},\"type\":\"carpet\"}],\"table\":[{\"cells\":{\"fill\":{\"color\":\"#EBF0F8\"},\"line\":{\"color\":\"white\"}},\"header\":{\"fill\":{\"color\":\"#C8D4E3\"},\"line\":{\"color\":\"white\"}},\"type\":\"table\"}],\"barpolar\":[{\"marker\":{\"line\":{\"color\":\"#E5ECF6\",\"width\":0.5},\"pattern\":{\"fillmode\":\"overlay\",\"size\":10,\"solidity\":0.2}},\"type\":\"barpolar\"}],\"pie\":[{\"automargin\":true,\"type\":\"pie\"}]},\"layout\":{\"autotypenumbers\":\"strict\",\"colorway\":[\"#636efa\",\"#EF553B\",\"#00cc96\",\"#ab63fa\",\"#FFA15A\",\"#19d3f3\",\"#FF6692\",\"#B6E880\",\"#FF97FF\",\"#FECB52\"],\"font\":{\"color\":\"#2a3f5f\"},\"hovermode\":\"closest\",\"hoverlabel\":{\"align\":\"left\"},\"paper_bgcolor\":\"white\",\"plot_bgcolor\":\"#E5ECF6\",\"polar\":{\"bgcolor\":\"#E5ECF6\",\"angularaxis\":{\"gridcolor\":\"white\",\"linecolor\":\"white\",\"ticks\":\"\"},\"radialaxis\":{\"gridcolor\":\"white\",\"linecolor\":\"white\",\"ticks\":\"\"}},\"ternary\":{\"bgcolor\":\"#E5ECF6\",\"aaxis\":{\"gridcolor\":\"white\",\"linecolor\":\"white\",\"ticks\":\"\"},\"baxis\":{\"gridcolor\":\"white\",\"linecolor\":\"white\",\"ticks\":\"\"},\"caxis\":{\"gridcolor\":\"white\",\"linecolor\":\"white\",\"ticks\":\"\"}},\"coloraxis\":{\"colorbar\":{\"outlinewidth\":0,\"ticks\":\"\"}},\"colorscale\":{\"sequential\":[[0.0,\"#0d0887\"],[0.1111111111111111,\"#46039f\"],[0.2222222222222222,\"#7201a8\"],[0.3333333333333333,\"#9c179e\"],[0.4444444444444444,\"#bd3786\"],[0.5555555555555556,\"#d8576b\"],[0.6666666666666666,\"#ed7953\"],[0.7777777777777778,\"#fb9f3a\"],[0.8888888888888888,\"#fdca26\"],[1.0,\"#f0f921\"]],\"sequentialminus\":[[0.0,\"#0d0887\"],[0.1111111111111111,\"#46039f\"],[0.2222222222222222,\"#7201a8\"],[0.3333333333333333,\"#9c179e\"],[0.4444444444444444,\"#bd3786\"],[0.5555555555555556,\"#d8576b\"],[0.6666666666666666,\"#ed7953\"],[0.7777777777777778,\"#fb9f3a\"],[0.8888888888888888,\"#fdca26\"],[1.0,\"#f0f921\"]],\"diverging\":[[0,\"#8e0152\"],[0.1,\"#c51b7d\"],[0.2,\"#de77ae\"],[0.3,\"#f1b6da\"],[0.4,\"#fde0ef\"],[0.5,\"#f7f7f7\"],[0.6,\"#e6f5d0\"],[0.7,\"#b8e186\"],[0.8,\"#7fbc41\"],[0.9,\"#4d9221\"],[1,\"#276419\"]]},\"xaxis\":{\"gridcolor\":\"white\",\"linecolor\":\"white\",\"ticks\":\"\",\"title\":{\"standoff\":15},\"zerolinecolor\":\"white\",\"automargin\":true,\"zerolinewidth\":2},\"yaxis\":{\"gridcolor\":\"white\",\"linecolor\":\"white\",\"ticks\":\"\",\"title\":{\"standoff\":15},\"zerolinecolor\":\"white\",\"automargin\":true,\"zerolinewidth\":2},\"scene\":{\"xaxis\":{\"backgroundcolor\":\"#E5ECF6\",\"gridcolor\":\"white\",\"linecolor\":\"white\",\"showbackground\":true,\"ticks\":\"\",\"zerolinecolor\":\"white\",\"gridwidth\":2},\"yaxis\":{\"backgroundcolor\":\"#E5ECF6\",\"gridcolor\":\"white\",\"linecolor\":\"white\",\"showbackground\":true,\"ticks\":\"\",\"zerolinecolor\":\"white\",\"gridwidth\":2},\"zaxis\":{\"backgroundcolor\":\"#E5ECF6\",\"gridcolor\":\"white\",\"linecolor\":\"white\",\"showbackground\":true,\"ticks\":\"\",\"zerolinecolor\":\"white\",\"gridwidth\":2}},\"shapedefaults\":{\"line\":{\"color\":\"#2a3f5f\"}},\"annotationdefaults\":{\"arrowcolor\":\"#2a3f5f\",\"arrowhead\":0,\"arrowwidth\":1},\"geo\":{\"bgcolor\":\"white\",\"landcolor\":\"#E5ECF6\",\"subunitcolor\":\"white\",\"showland\":true,\"showlakes\":true,\"lakecolor\":\"white\"},\"title\":{\"x\":0.05},\"mapbox\":{\"style\":\"light\"}}},\"mapbox\":{\"domain\":{\"x\":[0.0,1.0],\"y\":[0.0,1.0]},\"center\":{\"lat\":41.88817,\"lon\":-87.63006081450077},\"zoom\":3,\"accesstoken\":\"pk.eyJ1IjoiZGV2b25zb2wiLCJhIjoiY201bGthaGZzMGswZzJrcTFqYzQ4bTU1NyJ9.DXto0VUdrjoLK6XZa7r0cQ\",\"style\":\"streets\"},\"legend\":{\"tracegroupgap\":0,\"itemsizing\":\"constant\"},\"margin\":{\"t\":0,\"r\":0,\"l\":0,\"b\":0},\"height\":10000,\"width\":800,\"showlegend\":false},                        {\"responsive\": true}                    ).then(function(){\n",
       "                            \n",
       "var gd = document.getElementById('c7f0ad7e-60e8-479d-ba05-40308104da62');\n",
       "var x = new MutationObserver(function (mutations, observer) {{\n",
       "        var display = window.getComputedStyle(gd).display;\n",
       "        if (!display || display === 'none') {{\n",
       "            console.log([gd, 'removed!']);\n",
       "            Plotly.purge(gd);\n",
       "            observer.disconnect();\n",
       "        }}\n",
       "}});\n",
       "\n",
       "// Listen for the removal of the full notebook cells\n",
       "var notebookContainer = gd.closest('#notebook-container');\n",
       "if (notebookContainer) {{\n",
       "    x.observe(notebookContainer, {childList: true});\n",
       "}}\n",
       "\n",
       "// Listen for the clearing of the current output cell\n",
       "var outputEl = gd.closest('.output');\n",
       "if (outputEl) {{\n",
       "    x.observe(outputEl, {childList: true});\n",
       "}}\n",
       "\n",
       "                        })                };                });            </script>        </div>"
      ]
     },
     "metadata": {},
     "output_type": "display_data"
    }
   ],
   "source": [
    "import plotly.express as px\n",
    "import pandas as pd\n",
    "\n",
    "\n",
    "fig = px.scatter_mapbox(df, \n",
    "                        lat=\"Lat\", \n",
    "                        lon=\"Long\", \n",
    "                        hover_name=\"Address\", \n",
    "                        size=\"Listed\",\n",
    "                        zoom=8, \n",
    "                        height=800,\n",
    "                        width=800)\n",
    "\n",
    "fig.update_layout(\n",
    "    margin={\"r\": 0, \"t\": 0, \"l\": 0, \"b\": 0},\n",
    "    mapbox={\n",
    "        \"accesstoken\": 'pk.eyJ1IjoiZGV2b25zb2wiLCJhIjoiY201bGthaGZzMGswZzJrcTFqYzQ4bTU1NyJ9.DXto0VUdrjoLK6XZa7r0cQ',\n",
    "        \"style\": \"streets\",\n",
    "        \"zoom\": 3,\n",
    "    },\n",
    "    showlegend=False,\n",
    "    height=10000,\n",
    ")\n",
    "\n",
    "fig.show()"
   ]
  }
 ],
 "metadata": {
  "kernelspec": {
   "display_name": "Python 3 (ipykernel)",
   "language": "python",
   "name": "python3"
  },
  "language_info": {
   "codemirror_mode": {
    "name": "ipython",
    "version": 3
   },
   "file_extension": ".py",
   "mimetype": "text/x-python",
   "name": "python",
   "nbconvert_exporter": "python",
   "pygments_lexer": "ipython3",
   "version": "3.12.8"
  }
 },
 "nbformat": 4,
 "nbformat_minor": 5
}
